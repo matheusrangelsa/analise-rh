{
 "cells": [
  {
   "cell_type": "markdown",
   "metadata": {},
   "source": [
    "# Análise Exploratória de Dados\n",
    "Desafio de Dados: Ciência de Dados em RH | Turnover"
   ]
  },
  {
   "cell_type": "code",
   "execution_count": 2,
   "metadata": {},
   "outputs": [],
   "source": [
    "# Importação das bibliotecas necessárias\n",
    "import pandas as pd              # Manipulação e análise de dados\n",
    "import numpy as np               # Operações com arrays e matrizes\n",
    "import matplotlib.pyplot as plt  # Visualização de gráficos\n",
    "import plotly.express as px      # Criação de gráficos interativos\n",
    "\n",
    "# Leitura do dataset\n",
    "dados = r'C:\\Users\\manunes\\personal-projects\\analise-rh\\dataset\\Base_dados - Rotatividade RH.xlsx'\n",
    "df = pd.read_excel(dados, engine='openpyxl')"
   ]
  },
  {
   "cell_type": "markdown",
   "metadata": {},
   "source": [
    "## Visão geral e estrutura do dataset"
   ]
  },
  {
   "cell_type": "code",
   "execution_count": 3,
   "metadata": {},
   "outputs": [
    {
     "name": "stdout",
     "output_type": "stream",
     "text": [
      "Tamanho do dataset: 650 Linhas e 10 Colunas\n"
     ]
    }
   ],
   "source": [
    "print('Tamanho do dataset:',df.shape[0], 'Linhas e', df.shape[1], 'Colunas')"
   ]
  },
  {
   "cell_type": "code",
   "execution_count": 4,
   "metadata": {},
   "outputs": [
    {
     "name": "stdout",
     "output_type": "stream",
     "text": [
      "Tipos de dados das variáveis:\n"
     ]
    },
    {
     "data": {
      "text/plain": [
       "Data_Contratacao        datetime64[ns]\n",
       "Data_Desligamento       datetime64[ns]\n",
       "Meses_de_Servico                 int64\n",
       "Idade                            int64\n",
       "Pontuacao_Desempenho           float64\n",
       "Satisfacao_Trabalho            float64\n",
       "Nivel_Cargo                     object\n",
       "Salario                        float64\n",
       "Horas_Extras                   float64\n",
       "Desligamento                     int64\n",
       "dtype: object"
      ]
     },
     "execution_count": 4,
     "metadata": {},
     "output_type": "execute_result"
    }
   ],
   "source": [
    "print('Tipos de dados das variáveis:')\n",
    "df.dtypes"
   ]
  },
  {
   "cell_type": "code",
   "execution_count": 5,
   "metadata": {},
   "outputs": [],
   "source": [
    "# Por praticidade, os nomes das variáveis serão convertidos em minúsculas\n",
    "df.columns = df.columns.str.lower()"
   ]
  },
  {
   "cell_type": "code",
   "execution_count": 6,
   "metadata": {},
   "outputs": [
    {
     "data": {
      "text/plain": [
       "data_contratacao          0\n",
       "data_desligamento       506\n",
       "meses_de_servico          0\n",
       "idade                     0\n",
       "pontuacao_desempenho      0\n",
       "satisfacao_trabalho       0\n",
       "nivel_cargo               0\n",
       "salario                   0\n",
       "horas_extras              0\n",
       "desligamento              0\n",
       "dtype: int64"
      ]
     },
     "execution_count": 6,
     "metadata": {},
     "output_type": "execute_result"
    }
   ],
   "source": [
    "# Identificando a presença de dados ausentes nas variáveis\n",
    "df.isnull().sum()"
   ]
  },
  {
   "cell_type": "code",
   "execution_count": 7,
   "metadata": {},
   "outputs": [
    {
     "data": {
      "text/html": [
       "<div>\n",
       "<style scoped>\n",
       "    .dataframe tbody tr th:only-of-type {\n",
       "        vertical-align: middle;\n",
       "    }\n",
       "\n",
       "    .dataframe tbody tr th {\n",
       "        vertical-align: top;\n",
       "    }\n",
       "\n",
       "    .dataframe thead th {\n",
       "        text-align: right;\n",
       "    }\n",
       "</style>\n",
       "<table border=\"1\" class=\"dataframe\">\n",
       "  <thead>\n",
       "    <tr style=\"text-align: right;\">\n",
       "      <th></th>\n",
       "      <th>data_contratacao</th>\n",
       "      <th>data_desligamento</th>\n",
       "      <th>meses_de_servico</th>\n",
       "      <th>idade</th>\n",
       "      <th>pontuacao_desempenho</th>\n",
       "      <th>satisfacao_trabalho</th>\n",
       "      <th>nivel_cargo</th>\n",
       "      <th>salario</th>\n",
       "      <th>horas_extras</th>\n",
       "      <th>desligamento</th>\n",
       "    </tr>\n",
       "  </thead>\n",
       "  <tbody>\n",
       "    <tr>\n",
       "      <th>0</th>\n",
       "      <td>2024-02-14</td>\n",
       "      <td>NaT</td>\n",
       "      <td>3</td>\n",
       "      <td>24</td>\n",
       "      <td>2.066788</td>\n",
       "      <td>2.043644</td>\n",
       "      <td>Pleno</td>\n",
       "      <td>4994.41</td>\n",
       "      <td>15.465241</td>\n",
       "      <td>0</td>\n",
       "    </tr>\n",
       "    <tr>\n",
       "      <th>1</th>\n",
       "      <td>2023-11-16</td>\n",
       "      <td>2024-05-14</td>\n",
       "      <td>6</td>\n",
       "      <td>43</td>\n",
       "      <td>3.256257</td>\n",
       "      <td>1.711719</td>\n",
       "      <td>Sênior</td>\n",
       "      <td>8798.34</td>\n",
       "      <td>19.036627</td>\n",
       "      <td>1</td>\n",
       "    </tr>\n",
       "    <tr>\n",
       "      <th>2</th>\n",
       "      <td>2023-11-16</td>\n",
       "      <td>NaT</td>\n",
       "      <td>6</td>\n",
       "      <td>45</td>\n",
       "      <td>4.827732</td>\n",
       "      <td>3.480214</td>\n",
       "      <td>Sênior</td>\n",
       "      <td>8891.02</td>\n",
       "      <td>13.326408</td>\n",
       "      <td>0</td>\n",
       "    </tr>\n",
       "    <tr>\n",
       "      <th>3</th>\n",
       "      <td>2023-05-20</td>\n",
       "      <td>NaT</td>\n",
       "      <td>12</td>\n",
       "      <td>31</td>\n",
       "      <td>1.453944</td>\n",
       "      <td>1.617558</td>\n",
       "      <td>Pleno</td>\n",
       "      <td>7606.22</td>\n",
       "      <td>14.209663</td>\n",
       "      <td>0</td>\n",
       "    </tr>\n",
       "    <tr>\n",
       "      <th>4</th>\n",
       "      <td>2022-07-24</td>\n",
       "      <td>NaT</td>\n",
       "      <td>22</td>\n",
       "      <td>37</td>\n",
       "      <td>2.088917</td>\n",
       "      <td>2.763390</td>\n",
       "      <td>Sênior</td>\n",
       "      <td>9236.03</td>\n",
       "      <td>11.059687</td>\n",
       "      <td>0</td>\n",
       "    </tr>\n",
       "    <tr>\n",
       "      <th>...</th>\n",
       "      <td>...</td>\n",
       "      <td>...</td>\n",
       "      <td>...</td>\n",
       "      <td>...</td>\n",
       "      <td>...</td>\n",
       "      <td>...</td>\n",
       "      <td>...</td>\n",
       "      <td>...</td>\n",
       "      <td>...</td>\n",
       "      <td>...</td>\n",
       "    </tr>\n",
       "    <tr>\n",
       "      <th>645</th>\n",
       "      <td>2021-08-28</td>\n",
       "      <td>NaT</td>\n",
       "      <td>33</td>\n",
       "      <td>31</td>\n",
       "      <td>2.260088</td>\n",
       "      <td>1.539328</td>\n",
       "      <td>Pleno</td>\n",
       "      <td>7940.88</td>\n",
       "      <td>6.847854</td>\n",
       "      <td>0</td>\n",
       "    </tr>\n",
       "    <tr>\n",
       "      <th>646</th>\n",
       "      <td>2022-02-24</td>\n",
       "      <td>NaT</td>\n",
       "      <td>27</td>\n",
       "      <td>23</td>\n",
       "      <td>4.611915</td>\n",
       "      <td>2.521799</td>\n",
       "      <td>Junior</td>\n",
       "      <td>4893.95</td>\n",
       "      <td>4.583937</td>\n",
       "      <td>0</td>\n",
       "    </tr>\n",
       "    <tr>\n",
       "      <th>647</th>\n",
       "      <td>2022-10-22</td>\n",
       "      <td>NaT</td>\n",
       "      <td>19</td>\n",
       "      <td>21</td>\n",
       "      <td>4.688376</td>\n",
       "      <td>4.641638</td>\n",
       "      <td>Junior</td>\n",
       "      <td>3838.70</td>\n",
       "      <td>11.306088</td>\n",
       "      <td>0</td>\n",
       "    </tr>\n",
       "    <tr>\n",
       "      <th>648</th>\n",
       "      <td>2021-09-27</td>\n",
       "      <td>NaT</td>\n",
       "      <td>32</td>\n",
       "      <td>32</td>\n",
       "      <td>3.551361</td>\n",
       "      <td>3.998147</td>\n",
       "      <td>Pleno</td>\n",
       "      <td>4739.81</td>\n",
       "      <td>4.343341</td>\n",
       "      <td>0</td>\n",
       "    </tr>\n",
       "    <tr>\n",
       "      <th>649</th>\n",
       "      <td>2024-01-15</td>\n",
       "      <td>NaT</td>\n",
       "      <td>4</td>\n",
       "      <td>34</td>\n",
       "      <td>1.391584</td>\n",
       "      <td>1.149911</td>\n",
       "      <td>Pleno</td>\n",
       "      <td>5002.69</td>\n",
       "      <td>13.917831</td>\n",
       "      <td>0</td>\n",
       "    </tr>\n",
       "  </tbody>\n",
       "</table>\n",
       "<p>650 rows × 10 columns</p>\n",
       "</div>"
      ],
      "text/plain": [
       "    data_contratacao data_desligamento  meses_de_servico  idade  \\\n",
       "0         2024-02-14               NaT                 3     24   \n",
       "1         2023-11-16        2024-05-14                 6     43   \n",
       "2         2023-11-16               NaT                 6     45   \n",
       "3         2023-05-20               NaT                12     31   \n",
       "4         2022-07-24               NaT                22     37   \n",
       "..               ...               ...               ...    ...   \n",
       "645       2021-08-28               NaT                33     31   \n",
       "646       2022-02-24               NaT                27     23   \n",
       "647       2022-10-22               NaT                19     21   \n",
       "648       2021-09-27               NaT                32     32   \n",
       "649       2024-01-15               NaT                 4     34   \n",
       "\n",
       "     pontuacao_desempenho  satisfacao_trabalho nivel_cargo  salario  \\\n",
       "0                2.066788             2.043644       Pleno  4994.41   \n",
       "1                3.256257             1.711719      Sênior  8798.34   \n",
       "2                4.827732             3.480214      Sênior  8891.02   \n",
       "3                1.453944             1.617558       Pleno  7606.22   \n",
       "4                2.088917             2.763390      Sênior  9236.03   \n",
       "..                    ...                  ...         ...      ...   \n",
       "645              2.260088             1.539328       Pleno  7940.88   \n",
       "646              4.611915             2.521799      Junior  4893.95   \n",
       "647              4.688376             4.641638      Junior  3838.70   \n",
       "648              3.551361             3.998147       Pleno  4739.81   \n",
       "649              1.391584             1.149911       Pleno  5002.69   \n",
       "\n",
       "     horas_extras  desligamento  \n",
       "0       15.465241             0  \n",
       "1       19.036627             1  \n",
       "2       13.326408             0  \n",
       "3       14.209663             0  \n",
       "4       11.059687             0  \n",
       "..            ...           ...  \n",
       "645      6.847854             0  \n",
       "646      4.583937             0  \n",
       "647     11.306088             0  \n",
       "648      4.343341             0  \n",
       "649     13.917831             0  \n",
       "\n",
       "[650 rows x 10 columns]"
      ]
     },
     "execution_count": 7,
     "metadata": {},
     "output_type": "execute_result"
    }
   ],
   "source": [
    "# cabeçalho e rodapé do dataset\n",
    "df"
   ]
  },
  {
   "cell_type": "markdown",
   "metadata": {},
   "source": [
    "<h3 style=\"color: orange;\">Categorizando os Tipos de Variáveis e de Dados</h3> \n",
    "\n",
    "***\n",
    "#### **Variáveis Numéricas**\n",
    "<span style=\"color: gray;\">**Dados Quantitativos:**</span>\n",
    "- **meses_de_servico** - Discretos\n",
    "- **idade** - Discretos\n",
    "- **pontuacao_desempenho** - Contínuos\n",
    "- **satisfacao_trabalho** - Contínuos\n",
    "- **salario** - Contínuos\n",
    "- **horas_extras** - Contínuos\n",
    "\n",
    "<span style=\"color: gray;\">**Dados Temporais:**</span>\n",
    "- **data_contratacao**\n",
    "- **data_desligamento** \n",
    "\n",
    "<br> \n",
    "\n",
    "***\n",
    "\n",
    "#### **Variáveis Categóricas**\n",
    "<span style=\"color: gray;\">**Dados Qualitativos:**</span>\n",
    "- **nivel_cargo** - Ordinais\n",
    "- **desligamento (status de desligamento)** - Nominal\n"
   ]
  },
  {
   "cell_type": "code",
   "execution_count": 20,
   "metadata": {},
   "outputs": [
    {
     "data": {
      "text/html": [
       "<div>\n",
       "<style scoped>\n",
       "    .dataframe tbody tr th:only-of-type {\n",
       "        vertical-align: middle;\n",
       "    }\n",
       "\n",
       "    .dataframe tbody tr th {\n",
       "        vertical-align: top;\n",
       "    }\n",
       "\n",
       "    .dataframe thead th {\n",
       "        text-align: right;\n",
       "    }\n",
       "</style>\n",
       "<table border=\"1\" class=\"dataframe\">\n",
       "  <thead>\n",
       "    <tr style=\"text-align: right;\">\n",
       "      <th></th>\n",
       "      <th>nivel_cargo</th>\n",
       "      <th>desligamento</th>\n",
       "    </tr>\n",
       "  </thead>\n",
       "  <tbody>\n",
       "    <tr>\n",
       "      <th>0</th>\n",
       "      <td>Pleno</td>\n",
       "      <td>0</td>\n",
       "    </tr>\n",
       "    <tr>\n",
       "      <th>1</th>\n",
       "      <td>Sênior</td>\n",
       "      <td>1</td>\n",
       "    </tr>\n",
       "    <tr>\n",
       "      <th>2</th>\n",
       "      <td>Sênior</td>\n",
       "      <td>0</td>\n",
       "    </tr>\n",
       "  </tbody>\n",
       "</table>\n",
       "</div>"
      ],
      "text/plain": [
       "  nivel_cargo  desligamento\n",
       "0       Pleno             0\n",
       "1      Sênior             1\n",
       "2      Sênior             0"
      ]
     },
     "execution_count": 20,
     "metadata": {},
     "output_type": "execute_result"
    }
   ],
   "source": [
    "# Variáveis Qualitativas\n",
    "qualitativas = df[['nivel_cargo', 'desligamento']]\n",
    "qualitativas.head(3)"
   ]
  },
  {
   "cell_type": "code",
   "execution_count": 32,
   "metadata": {},
   "outputs": [
    {
     "data": {
      "text/html": [
       "<div>\n",
       "<style scoped>\n",
       "    .dataframe tbody tr th:only-of-type {\n",
       "        vertical-align: middle;\n",
       "    }\n",
       "\n",
       "    .dataframe tbody tr th {\n",
       "        vertical-align: top;\n",
       "    }\n",
       "\n",
       "    .dataframe thead th {\n",
       "        text-align: right;\n",
       "    }\n",
       "</style>\n",
       "<table border=\"1\" class=\"dataframe\">\n",
       "  <thead>\n",
       "    <tr style=\"text-align: right;\">\n",
       "      <th></th>\n",
       "      <th>data_contratacao</th>\n",
       "      <th>data_desligamento</th>\n",
       "    </tr>\n",
       "  </thead>\n",
       "  <tbody>\n",
       "    <tr>\n",
       "      <th>0</th>\n",
       "      <td>2024-02-14</td>\n",
       "      <td>NaT</td>\n",
       "    </tr>\n",
       "    <tr>\n",
       "      <th>1</th>\n",
       "      <td>2023-11-16</td>\n",
       "      <td>2024-05-14</td>\n",
       "    </tr>\n",
       "    <tr>\n",
       "      <th>2</th>\n",
       "      <td>2023-11-16</td>\n",
       "      <td>NaT</td>\n",
       "    </tr>\n",
       "  </tbody>\n",
       "</table>\n",
       "</div>"
      ],
      "text/plain": [
       "  data_contratacao data_desligamento\n",
       "0       2024-02-14               NaT\n",
       "1       2023-11-16        2024-05-14\n",
       "2       2023-11-16               NaT"
      ]
     },
     "execution_count": 32,
     "metadata": {},
     "output_type": "execute_result"
    }
   ],
   "source": [
    "# Variáveis Quantitativas Temporais\n",
    "temporais = df[['data_contratacao', 'data_desligamento']]\n",
    "temporais.head(3)"
   ]
  },
  {
   "cell_type": "code",
   "execution_count": 35,
   "metadata": {},
   "outputs": [
    {
     "data": {
      "text/html": [
       "<div>\n",
       "<style scoped>\n",
       "    .dataframe tbody tr th:only-of-type {\n",
       "        vertical-align: middle;\n",
       "    }\n",
       "\n",
       "    .dataframe tbody tr th {\n",
       "        vertical-align: top;\n",
       "    }\n",
       "\n",
       "    .dataframe thead th {\n",
       "        text-align: right;\n",
       "    }\n",
       "</style>\n",
       "<table border=\"1\" class=\"dataframe\">\n",
       "  <thead>\n",
       "    <tr style=\"text-align: right;\">\n",
       "      <th></th>\n",
       "      <th>meses_de_servico</th>\n",
       "      <th>idade</th>\n",
       "      <th>pontuacao_desempenho</th>\n",
       "      <th>satisfacao_trabalho</th>\n",
       "      <th>salario</th>\n",
       "      <th>horas_extras</th>\n",
       "    </tr>\n",
       "  </thead>\n",
       "  <tbody>\n",
       "    <tr>\n",
       "      <th>0</th>\n",
       "      <td>3</td>\n",
       "      <td>24</td>\n",
       "      <td>2.066788</td>\n",
       "      <td>2.043644</td>\n",
       "      <td>4994.41</td>\n",
       "      <td>15.465241</td>\n",
       "    </tr>\n",
       "    <tr>\n",
       "      <th>1</th>\n",
       "      <td>6</td>\n",
       "      <td>43</td>\n",
       "      <td>3.256257</td>\n",
       "      <td>1.711719</td>\n",
       "      <td>8798.34</td>\n",
       "      <td>19.036627</td>\n",
       "    </tr>\n",
       "    <tr>\n",
       "      <th>2</th>\n",
       "      <td>6</td>\n",
       "      <td>45</td>\n",
       "      <td>4.827732</td>\n",
       "      <td>3.480214</td>\n",
       "      <td>8891.02</td>\n",
       "      <td>13.326408</td>\n",
       "    </tr>\n",
       "  </tbody>\n",
       "</table>\n",
       "</div>"
      ],
      "text/plain": [
       "   meses_de_servico  idade  pontuacao_desempenho  satisfacao_trabalho  \\\n",
       "0                 3     24              2.066788             2.043644   \n",
       "1                 6     43              3.256257             1.711719   \n",
       "2                 6     45              4.827732             3.480214   \n",
       "\n",
       "   salario  horas_extras  \n",
       "0  4994.41     15.465241  \n",
       "1  8798.34     19.036627  \n",
       "2  8891.02     13.326408  "
      ]
     },
     "execution_count": 35,
     "metadata": {},
     "output_type": "execute_result"
    }
   ],
   "source": [
    "# Variáveis Quantitativas\n",
    "variaveis_a_desconsiderar = pd.concat([qualitativas, temporais])\n",
    "quantitativas = df.loc[:, ~df.columns.isin(variaveis_a_desconsiderar)]\n",
    "\n",
    "quantitativas.head(3)"
   ]
  },
  {
   "cell_type": "markdown",
   "metadata": {},
   "source": [
    "***\n",
    "\n",
    "### Primeiras observações:\n",
    "\n",
    "Após entender melhor os tipos de variáveis e os dados que temos sobre a empresa, algumas perguntas podem guiar essa análise para descobertas relevantes:\n",
    "1. Existe uma relação entre horas extras e satisfação no trabalho? (correlação entre a quantidade de horas extras e indicadores de desempenho)\n",
    "2. Qual é a média de permanência dos funcionários na empresa antes de pedir demissão? \n",
    "3. Há uma correlação entre o tempo de serviço na empresa e a probabilidade de desligamento?\n",
    "4. Quais são os principais fatores que explicam os salários mais altos? Tempo de empresa, desempenho, nível de cargo ou quantidade de horas extras?\n",
    "5. Os funcionários com alto desempenho e salário baixo têm uma taxa de desligamento maior do que aqueles com o cenário oposto?\n",
    "6. Existe uma correlação entre a satisfação no trabalho e o desempenho?\n",
    "7. Qual é o tempo médio em que um funcionário júnior é desligado?\n",
    "8. A idade do colaborador ou o tempo de serviço influenciam mais o desempenho? (Existe uma tendência de que os mais jovens passem menos tempo na empresa?)\n",
    "\n",
    "\n",
    "======================================================================================================== <br>\n",
    "<br>\n",
    "\n",
    "**Dados Ausentes (Missing Values):**<br>\n",
    "\n",
    "A coluna 'data_desligamento' apresenta dados nulos, o que conforme o dicionário dos dados, fazem sentido existir pois representam aqueles funcionários que ainda trabalham na empresa, e, portanto, não foram desligados. Será útil calcular quantos colaboradores ativos a empresa possui."
   ]
  },
  {
   "cell_type": "markdown",
   "metadata": {},
   "source": [
    "### [KPI's do RH](https://www.gupy.io/blog/turnover)(link de uma fonte confiável para embasar nosso estudo)\n",
    "\n",
    "**Taxa de Desligamento(turnover):** \n",
    "\n",
    "**Taxa geral de retenção:** avalia quantos funcionários permanecem na empresa durante um intervalo de tempo\n",
    "\n",
    "**Taxa geral de rotatividade:** oposto da taxa de retenção\n",
    "\n",
    "**Índice de retençâo dos melhores talentos:** avalia os funcionários com alto desempenho\n",
    "\n",
    "Todas possuem fórmulas para calcularmos as taxas e como já são métricas de RH, podemos nos basear nelas para obter resultados mais do cotidiano de people analytics e que vão ajudar a análise."
   ]
  },
  {
   "cell_type": "code",
   "execution_count": 13,
   "metadata": {},
   "outputs": [
    {
     "name": "stdout",
     "output_type": "stream",
     "text": [
      "Total de funcionários: \n",
      "Contratados: 650 \n",
      "Desligados: 144 \n",
      "Em atividade: 506\n"
     ]
    }
   ],
   "source": [
    "# Totais de contratados, desligados e ativos na empresa\n",
    "\n",
    "total_contratados = df['data_contratacao'].count()\n",
    "total_desligados = df['data_desligamento'].count()\n",
    "\n",
    "total_ativos = total_contratados - total_desligados\n",
    "\n",
    "print('Total de funcionários:',\n",
    "      '\\nContratados:', total_contratados,\n",
    "      '\\nDesligados:', total_desligados,\n",
    "      '\\nEm atividade:', total_ativos)"
   ]
  },
  {
   "cell_type": "markdown",
   "metadata": {},
   "source": [
    "Qual a taxa de desligamento dessa empresa?"
   ]
  },
  {
   "cell_type": "code",
   "execution_count": 17,
   "metadata": {},
   "outputs": [
    {
     "name": "stdout",
     "output_type": "stream",
     "text": [
      "A taxa de desligamento da empresa é de 78.46%\n"
     ]
    }
   ],
   "source": [
    "turnover = ((((total_contratados + total_desligados) / 2) / total_ativos) * 100).round(2)\n",
    "\n",
    "print(f'A taxa de desligamento da empresa é de {turnover}%')"
   ]
  },
  {
   "cell_type": "markdown",
   "metadata": {},
   "source": [
    "Qual o período que temos de contratação com os dados disponíveis?"
   ]
  },
  {
   "cell_type": "code",
   "execution_count": 42,
   "metadata": {},
   "outputs": [
    {
     "name": "stdout",
     "output_type": "stream",
     "text": [
      "Data inicial: 29-06-2021 \n",
      "Data final: 14-02-2024\n"
     ]
    }
   ],
   "source": [
    "data_inicial = temporais['data_contratacao'].min().strftime('%d-%m-%Y')\n",
    "data_final = temporais['data_contratacao'].max().strftime('%d-%m-%Y')\n",
    "\n",
    "print(f'Data inicial: {data_inicial}',\n",
    "      f'\\nData final: {data_final}')"
   ]
  },
  {
   "cell_type": "markdown",
   "metadata": {},
   "source": [
    "Os dados tem um histórico de contratações de 2 anos, 7 meses e 16 dias considerando o intervalo de datas."
   ]
  }
 ],
 "metadata": {
  "kernelspec": {
   "display_name": "Python 3",
   "language": "python",
   "name": "python3"
  },
  "language_info": {
   "codemirror_mode": {
    "name": "ipython",
    "version": 3
   },
   "file_extension": ".py",
   "mimetype": "text/x-python",
   "name": "python",
   "nbconvert_exporter": "python",
   "pygments_lexer": "ipython3",
   "version": "3.12.2"
  }
 },
 "nbformat": 4,
 "nbformat_minor": 2
}
