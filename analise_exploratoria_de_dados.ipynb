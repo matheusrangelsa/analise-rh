{
 "cells": [
  {
   "cell_type": "markdown",
   "metadata": {},
   "source": [
    "# Sobre o estudo de caso analisado\n",
    "\n",
    ">**Dados:** O conjunto de dados disponibilizado contém informações sobre funcionários contratado e desligados de uma empresa\n",
    ">\n",
    ">**Objetivo:** Analisar os dados para identificar padrões e tendências que expliquem o aumento dos custos com desligamentos e novas contratações, buscando formas de reduzir esses custos.<br>\n",
    ">\n",
    ">**Motivação:** A empresa tem dificuldade em manter e desenvolver talentos, possui uma rotatividade grande de colaboradores que são contratados e em pouco tempo são desligados, provocando um custo alto com R&S e com processos demissionais.  "
   ]
  },
  {
   "cell_type": "markdown",
   "metadata": {},
   "source": [
    "### Importando os pacotes que serão utilizado\n"
   ]
  },
  {
   "cell_type": "code",
   "execution_count": 1,
   "metadata": {},
   "outputs": [],
   "source": [
    "# manipulação de dados e cálculos matemáticos\n",
    "import pandas as pd\n",
    "import numpy as np\n",
    "# visualização de dados\n",
    "import matplotlib.pyplot as plt\n",
    "import seaborn as sns\n",
    "# criar análise exploratória rápida dos dados\n",
    "from ydata_profiling import ProfileReport \n",
    "\n",
    "# para ignorar alertas\n",
    "import warnings\n",
    "warnings.filterwarnings('ignore')"
   ]
  },
  {
   "cell_type": "markdown",
   "metadata": {},
   "source": [
    "### Leitura e carregamento dos dados"
   ]
  },
  {
   "cell_type": "code",
   "execution_count": 2,
   "metadata": {},
   "outputs": [],
   "source": [
    "dados = r'C:\\Users\\manunes\\personal-projects\\analise-rh\\dataset\\Base_dados - Rotatividade RH.xlsx'\n",
    "df = pd.read_excel(dados, engine='openpyxl')"
   ]
  },
  {
   "cell_type": "markdown",
   "metadata": {},
   "source": [
    "Os dados de RH desta empresa foram disponibilizados em um arquivo Excel chamado `Base_dados - Rotatividade RH.xlsx`.\n",
    "\n",
    "O conjunto de dados contém esses campos:\n",
    "\n",
    "Variáveis            | Descrição\n",
    "---------------------|--------------\n",
    "`Data_Contratacao`     | Data exata em que o colaborador foi contratado pela empresa    \n",
    "`Data_Desligamento`    | Data em que foi desligado, se estiver vazio é porque o colaborador ainda está ativo  \n",
    "`Meses_de_Servico`     | Tempo total em meses que o colaborador trabalha ou trabalhou na empresa          \n",
    "`Idade`                | Idade do colaborador no momento da contratação           \n",
    "`Pontuacao_Desempenho` | Avaliação do desempenho em um intervalo de 1 a 5, onde 5 inidica uma entrega de excelência         \n",
    "`Satisfacao_Trabalho`  | Indica o nível de satisfação com o trabalho entre 1 a 5, onde 5 significa muito satisfeito        \n",
    "`Nivel_Cargo`          | Nível hierárquico do cargo ocupado          \n",
    "`Salario`              | Salário bruto mensal do colaborador        \n",
    "`Horas_Extras`         | Quantidade de horas extras que o colaborador possui         \n",
    "`Desligamento`         | Indica o status do colaborador, onde 1 significa que foi desligado e 0 que o colaborador está ativo"
   ]
  },
  {
   "cell_type": "markdown",
   "metadata": {},
   "source": [
    "## 1. Visão Geral sobre o Dataset"
   ]
  },
  {
   "cell_type": "markdown",
   "metadata": {},
   "source": [
    "Tamanho do dataset"
   ]
  },
  {
   "cell_type": "code",
   "execution_count": 3,
   "metadata": {},
   "outputs": [
    {
     "name": "stdout",
     "output_type": "stream",
     "text": [
      "Tamanho do dataset: 650 Linhas e 10 Colunas\n"
     ]
    }
   ],
   "source": [
    "print('Tamanho do dataset:', df.shape[0], 'Linhas e', df.shape[1], 'Colunas')"
   ]
  },
  {
   "cell_type": "markdown",
   "metadata": {},
   "source": [
    "Cabeçalho e rodapé do dataset"
   ]
  },
  {
   "cell_type": "code",
   "execution_count": 4,
   "metadata": {},
   "outputs": [
    {
     "data": {
      "text/html": [
       "<div>\n",
       "<style scoped>\n",
       "    .dataframe tbody tr th:only-of-type {\n",
       "        vertical-align: middle;\n",
       "    }\n",
       "\n",
       "    .dataframe tbody tr th {\n",
       "        vertical-align: top;\n",
       "    }\n",
       "\n",
       "    .dataframe thead th {\n",
       "        text-align: right;\n",
       "    }\n",
       "</style>\n",
       "<table border=\"1\" class=\"dataframe\">\n",
       "  <thead>\n",
       "    <tr style=\"text-align: right;\">\n",
       "      <th></th>\n",
       "      <th>Data_Contratacao</th>\n",
       "      <th>Data_Desligamento</th>\n",
       "      <th>Meses_de_Servico</th>\n",
       "      <th>Idade</th>\n",
       "      <th>Pontuacao_Desempenho</th>\n",
       "      <th>Satisfacao_Trabalho</th>\n",
       "      <th>Nivel_Cargo</th>\n",
       "      <th>Salario</th>\n",
       "      <th>Horas_Extras</th>\n",
       "      <th>Desligamento</th>\n",
       "    </tr>\n",
       "  </thead>\n",
       "  <tbody>\n",
       "    <tr>\n",
       "      <th>0</th>\n",
       "      <td>2024-02-14</td>\n",
       "      <td>NaT</td>\n",
       "      <td>3</td>\n",
       "      <td>24</td>\n",
       "      <td>2.066788</td>\n",
       "      <td>2.043644</td>\n",
       "      <td>Pleno</td>\n",
       "      <td>4994.41</td>\n",
       "      <td>15.465241</td>\n",
       "      <td>0</td>\n",
       "    </tr>\n",
       "    <tr>\n",
       "      <th>1</th>\n",
       "      <td>2023-11-16</td>\n",
       "      <td>2024-05-14</td>\n",
       "      <td>6</td>\n",
       "      <td>43</td>\n",
       "      <td>3.256257</td>\n",
       "      <td>1.711719</td>\n",
       "      <td>Sênior</td>\n",
       "      <td>8798.34</td>\n",
       "      <td>19.036627</td>\n",
       "      <td>1</td>\n",
       "    </tr>\n",
       "    <tr>\n",
       "      <th>2</th>\n",
       "      <td>2023-11-16</td>\n",
       "      <td>NaT</td>\n",
       "      <td>6</td>\n",
       "      <td>45</td>\n",
       "      <td>4.827732</td>\n",
       "      <td>3.480214</td>\n",
       "      <td>Sênior</td>\n",
       "      <td>8891.02</td>\n",
       "      <td>13.326408</td>\n",
       "      <td>0</td>\n",
       "    </tr>\n",
       "    <tr>\n",
       "      <th>3</th>\n",
       "      <td>2023-05-20</td>\n",
       "      <td>NaT</td>\n",
       "      <td>12</td>\n",
       "      <td>31</td>\n",
       "      <td>1.453944</td>\n",
       "      <td>1.617558</td>\n",
       "      <td>Pleno</td>\n",
       "      <td>7606.22</td>\n",
       "      <td>14.209663</td>\n",
       "      <td>0</td>\n",
       "    </tr>\n",
       "    <tr>\n",
       "      <th>4</th>\n",
       "      <td>2022-07-24</td>\n",
       "      <td>NaT</td>\n",
       "      <td>22</td>\n",
       "      <td>37</td>\n",
       "      <td>2.088917</td>\n",
       "      <td>2.763390</td>\n",
       "      <td>Sênior</td>\n",
       "      <td>9236.03</td>\n",
       "      <td>11.059687</td>\n",
       "      <td>0</td>\n",
       "    </tr>\n",
       "    <tr>\n",
       "      <th>...</th>\n",
       "      <td>...</td>\n",
       "      <td>...</td>\n",
       "      <td>...</td>\n",
       "      <td>...</td>\n",
       "      <td>...</td>\n",
       "      <td>...</td>\n",
       "      <td>...</td>\n",
       "      <td>...</td>\n",
       "      <td>...</td>\n",
       "      <td>...</td>\n",
       "    </tr>\n",
       "    <tr>\n",
       "      <th>645</th>\n",
       "      <td>2021-08-28</td>\n",
       "      <td>NaT</td>\n",
       "      <td>33</td>\n",
       "      <td>31</td>\n",
       "      <td>2.260088</td>\n",
       "      <td>1.539328</td>\n",
       "      <td>Pleno</td>\n",
       "      <td>7940.88</td>\n",
       "      <td>6.847854</td>\n",
       "      <td>0</td>\n",
       "    </tr>\n",
       "    <tr>\n",
       "      <th>646</th>\n",
       "      <td>2022-02-24</td>\n",
       "      <td>NaT</td>\n",
       "      <td>27</td>\n",
       "      <td>23</td>\n",
       "      <td>4.611915</td>\n",
       "      <td>2.521799</td>\n",
       "      <td>Junior</td>\n",
       "      <td>4893.95</td>\n",
       "      <td>4.583937</td>\n",
       "      <td>0</td>\n",
       "    </tr>\n",
       "    <tr>\n",
       "      <th>647</th>\n",
       "      <td>2022-10-22</td>\n",
       "      <td>NaT</td>\n",
       "      <td>19</td>\n",
       "      <td>21</td>\n",
       "      <td>4.688376</td>\n",
       "      <td>4.641638</td>\n",
       "      <td>Junior</td>\n",
       "      <td>3838.70</td>\n",
       "      <td>11.306088</td>\n",
       "      <td>0</td>\n",
       "    </tr>\n",
       "    <tr>\n",
       "      <th>648</th>\n",
       "      <td>2021-09-27</td>\n",
       "      <td>NaT</td>\n",
       "      <td>32</td>\n",
       "      <td>32</td>\n",
       "      <td>3.551361</td>\n",
       "      <td>3.998147</td>\n",
       "      <td>Pleno</td>\n",
       "      <td>4739.81</td>\n",
       "      <td>4.343341</td>\n",
       "      <td>0</td>\n",
       "    </tr>\n",
       "    <tr>\n",
       "      <th>649</th>\n",
       "      <td>2024-01-15</td>\n",
       "      <td>NaT</td>\n",
       "      <td>4</td>\n",
       "      <td>34</td>\n",
       "      <td>1.391584</td>\n",
       "      <td>1.149911</td>\n",
       "      <td>Pleno</td>\n",
       "      <td>5002.69</td>\n",
       "      <td>13.917831</td>\n",
       "      <td>0</td>\n",
       "    </tr>\n",
       "  </tbody>\n",
       "</table>\n",
       "<p>650 rows × 10 columns</p>\n",
       "</div>"
      ],
      "text/plain": [
       "    Data_Contratacao Data_Desligamento  Meses_de_Servico  Idade  \\\n",
       "0         2024-02-14               NaT                 3     24   \n",
       "1         2023-11-16        2024-05-14                 6     43   \n",
       "2         2023-11-16               NaT                 6     45   \n",
       "3         2023-05-20               NaT                12     31   \n",
       "4         2022-07-24               NaT                22     37   \n",
       "..               ...               ...               ...    ...   \n",
       "645       2021-08-28               NaT                33     31   \n",
       "646       2022-02-24               NaT                27     23   \n",
       "647       2022-10-22               NaT                19     21   \n",
       "648       2021-09-27               NaT                32     32   \n",
       "649       2024-01-15               NaT                 4     34   \n",
       "\n",
       "     Pontuacao_Desempenho  Satisfacao_Trabalho Nivel_Cargo  Salario  \\\n",
       "0                2.066788             2.043644       Pleno  4994.41   \n",
       "1                3.256257             1.711719      Sênior  8798.34   \n",
       "2                4.827732             3.480214      Sênior  8891.02   \n",
       "3                1.453944             1.617558       Pleno  7606.22   \n",
       "4                2.088917             2.763390      Sênior  9236.03   \n",
       "..                    ...                  ...         ...      ...   \n",
       "645              2.260088             1.539328       Pleno  7940.88   \n",
       "646              4.611915             2.521799      Junior  4893.95   \n",
       "647              4.688376             4.641638      Junior  3838.70   \n",
       "648              3.551361             3.998147       Pleno  4739.81   \n",
       "649              1.391584             1.149911       Pleno  5002.69   \n",
       "\n",
       "     Horas_Extras  Desligamento  \n",
       "0       15.465241             0  \n",
       "1       19.036627             1  \n",
       "2       13.326408             0  \n",
       "3       14.209663             0  \n",
       "4       11.059687             0  \n",
       "..            ...           ...  \n",
       "645      6.847854             0  \n",
       "646      4.583937             0  \n",
       "647     11.306088             0  \n",
       "648      4.343341             0  \n",
       "649     13.917831             0  \n",
       "\n",
       "[650 rows x 10 columns]"
      ]
     },
     "execution_count": 4,
     "metadata": {},
     "output_type": "execute_result"
    }
   ],
   "source": [
    "df"
   ]
  },
  {
   "cell_type": "code",
   "execution_count": 18,
   "metadata": {},
   "outputs": [],
   "source": [
    "# Por praticidade, os nomes das variáveis serão convertidos em minúsculos\n",
    "df.columns = df.columns.str.lower()"
   ]
  },
  {
   "cell_type": "markdown",
   "metadata": {},
   "source": [
    "Tipos de dados"
   ]
  },
  {
   "cell_type": "code",
   "execution_count": 6,
   "metadata": {},
   "outputs": [
    {
     "name": "stdout",
     "output_type": "stream",
     "text": [
      "Tipos de dados das variáveis:\n"
     ]
    },
    {
     "data": {
      "text/plain": [
       "data_contratacao        datetime64[ns]\n",
       "data_desligamento       datetime64[ns]\n",
       "meses_de_servico                 int64\n",
       "idade                            int64\n",
       "pontuacao_desempenho           float64\n",
       "satisfacao_trabalho            float64\n",
       "nivel_cargo                     object\n",
       "salario                        float64\n",
       "horas_extras                   float64\n",
       "desligamento                     int64\n",
       "dtype: object"
      ]
     },
     "execution_count": 6,
     "metadata": {},
     "output_type": "execute_result"
    }
   ],
   "source": [
    "print('Tipos de dados das variáveis:')\n",
    "df.dtypes"
   ]
  },
  {
   "cell_type": "markdown",
   "metadata": {},
   "source": [
    "## 2. Entendendo os Tipos de Variáveis e Dados (Categorização)"
   ]
  },
  {
   "cell_type": "markdown",
   "metadata": {},
   "source": [
    "<h3 style=\"color: orange;\">Categorizando os Tipos de Variáveis e de Dados</h3> \n",
    "\n",
    "***\n",
    "#### **Variáveis Numéricas**\n",
    "<span style=\"color: gray;\">**Dados Quantitativos:**</span>\n",
    "- **meses_de_servico** - Discretos\n",
    "- **idade** - Discretos\n",
    "- **pontuacao_desempenho** - Contínuos\n",
    "- **satisfacao_trabalho** - Contínuos\n",
    "- **salario** - Contínuos\n",
    "- **horas_extras** - Contínuos\n",
    "\n",
    "<span style=\"color: gray;\">**Dados Temporais:**</span>\n",
    "- **data_contratacao** - Discretos\n",
    "- **data_desligamento** - Discretos\n",
    "\n",
    "<br> \n",
    "\n",
    "***\n",
    "\n",
    "#### **Variáveis Categóricas**\n",
    "<span style=\"color: gray;\">**Dados Qualitativos:**</span>\n",
    "- **nivel_cargo** - Ordinais\n",
    "- **desligamento (status de desligamento)** - Nominal"
   ]
  },
  {
   "cell_type": "markdown",
   "metadata": {},
   "source": [
    "## 3. Data Profiling | EDA inicial"
   ]
  },
  {
   "cell_type": "markdown",
   "metadata": {},
   "source": [
    "Gerar o relatório de perfil de dados com ydata-profiling"
   ]
  },
  {
   "cell_type": "code",
   "execution_count": null,
   "metadata": {},
   "outputs": [],
   "source": [
    "perfil_dos_dados = ProfileReport(df, title='Report RH', explorative=True)\n",
    "\n",
    "perfil_dos_dados.to_notebook_iframe()"
   ]
  },
  {
   "cell_type": "markdown",
   "metadata": {},
   "source": [
    "## 4. Limpeza e Tratamento dos Dados"
   ]
  },
  {
   "cell_type": "markdown",
   "metadata": {},
   "source": [
    "#### I - Dados duplicados"
   ]
  },
  {
   "cell_type": "code",
   "execution_count": 7,
   "metadata": {},
   "outputs": [
    {
     "data": {
      "text/plain": [
       "data_contratacao         33\n",
       "data_desligamento         1\n",
       "meses_de_servico         33\n",
       "idade                    32\n",
       "pontuacao_desempenho    650\n",
       "satisfacao_trabalho     650\n",
       "nivel_cargo               3\n",
       "salario                 650\n",
       "horas_extras            540\n",
       "desligamento              2\n",
       "dtype: int64"
      ]
     },
     "execution_count": 7,
     "metadata": {},
     "output_type": "execute_result"
    }
   ],
   "source": [
    "df.nunique()"
   ]
  },
  {
   "cell_type": "markdown",
   "metadata": {},
   "source": [
    "Avaliando aqueles que fazem sentido existirem ou não:\n",
    "\n",
    "´data_desligamento´: Parece estranho temos uma proposta baseada em muitas demissões e todas elas apontarem para apenas um único registro, ou seja, um único dia em que houve demissões. Vamos trazer um detalhamento sobre isso na análise univariada desta variável;\n",
    "\n",
    "´salario´: Temos um salário diferente para cada funcionário, considerando que o total de contratados é de 650. Isso indica algo preocupante, que é a empresa não ter um padrão de salários entre seus colaboradores, o que pode ter uma influência no nível de satisfação deles. Diferenças salarias são comentadas entre os próprios colaboradores e costumam causar uma má repercurssão;\n",
    "\n",
    "´nivel_cargo´: Aqui há um indicativo que reforça o quão delicada é a situação de não ter uma padrão nos salários por cargo, visto que só temos 3 níveis de cargo possíveis e 650 salários diferentes distribuídos entre 650 funcionários. Na análise bivariada é interessante observar o comportamento de oscilação de salário em função do nível de cargo ou do tempo de serviço."
   ]
  },
  {
   "cell_type": "markdown",
   "metadata": {},
   "source": [
    "#### II - Dados Ausentes"
   ]
  },
  {
   "cell_type": "code",
   "execution_count": 8,
   "metadata": {},
   "outputs": [
    {
     "data": {
      "text/plain": [
       "data_contratacao          0\n",
       "data_desligamento       506\n",
       "meses_de_servico          0\n",
       "idade                     0\n",
       "pontuacao_desempenho      0\n",
       "satisfacao_trabalho       0\n",
       "nivel_cargo               0\n",
       "salario                   0\n",
       "horas_extras              0\n",
       "desligamento              0\n",
       "dtype: int64"
      ]
     },
     "execution_count": 8,
     "metadata": {},
     "output_type": "execute_result"
    }
   ],
   "source": [
    "nulos = df.isnull().sum()\n",
    "nulos"
   ]
  },
  {
   "cell_type": "code",
   "execution_count": 9,
   "metadata": {},
   "outputs": [
    {
     "name": "stdout",
     "output_type": "stream",
     "text": [
      "Temos 506 valores ausentes no conjunto de dados.\n"
     ]
    }
   ],
   "source": [
    "print(f'Temos {nulos.sum()} valores ausentes no conjunto de dados.')"
   ]
  },
  {
   "cell_type": "markdown",
   "metadata": {},
   "source": [
    "Calculando a porcentagem de valores ausentes em cada variável"
   ]
  },
  {
   "cell_type": "code",
   "execution_count": 10,
   "metadata": {},
   "outputs": [
    {
     "name": "stdout",
     "output_type": "stream",
     "text": [
      "Variável              | nulos (%)\n"
     ]
    },
    {
     "data": {
      "text/plain": [
       "data_desligamento       77.85\n",
       "data_contratacao         0.00\n",
       "meses_de_servico         0.00\n",
       "idade                    0.00\n",
       "pontuacao_desempenho     0.00\n",
       "satisfacao_trabalho      0.00\n",
       "nivel_cargo              0.00\n",
       "salario                  0.00\n",
       "horas_extras             0.00\n",
       "desligamento             0.00\n",
       "dtype: float64"
      ]
     },
     "execution_count": 10,
     "metadata": {},
     "output_type": "execute_result"
    }
   ],
   "source": [
    "porcentagem_nulos = (nulos / len(df) * 100).round(2).sort_values(ascending=False)\n",
    "\n",
    "print('Variável              | nulos (%)')\n",
    "porcentagem_nulos"
   ]
  },
  {
   "cell_type": "markdown",
   "metadata": {},
   "source": [
    "## 5. Análise Exploratória dos Dados | EDA Detalhada"
   ]
  },
  {
   "cell_type": "markdown",
   "metadata": {},
   "source": [
    "### Agrupando as variáveis por tipos"
   ]
  },
  {
   "cell_type": "markdown",
   "metadata": {},
   "source": [
    "#### Variáveis Numéricas"
   ]
  },
  {
   "cell_type": "code",
   "execution_count": null,
   "metadata": {},
   "outputs": [],
   "source": [
    "# Variáveis Qualitativas\n",
    "qualitativas = df[['nivel_cargo', 'desligamento']]\n",
    "qualitativas.head(3)"
   ]
  },
  {
   "cell_type": "markdown",
   "metadata": {},
   "source": [
    "#### Variáveis Temporais"
   ]
  },
  {
   "cell_type": "code",
   "execution_count": null,
   "metadata": {},
   "outputs": [],
   "source": [
    "# Variáveis Quantitativas Temporais\n",
    "temporais = df[['data_contratacao', 'data_desligamento']]\n",
    "temporais.head(3)"
   ]
  },
  {
   "cell_type": "markdown",
   "metadata": {},
   "source": [
    "#### Variáveis Categóricas"
   ]
  },
  {
   "cell_type": "code",
   "execution_count": null,
   "metadata": {},
   "outputs": [],
   "source": [
    "# Variáveis Quantitativas\n",
    "variaveis_a_desconsiderar = pd.concat([qualitativas, temporais])\n",
    "quantitativas = df.loc[:, ~df.columns.isin(variaveis_a_desconsiderar)]\n",
    "\n",
    "quantitativas.head(3)"
   ]
  }
 ],
 "metadata": {
  "kernelspec": {
   "display_name": "Python 3",
   "language": "python",
   "name": "python3"
  },
  "language_info": {
   "codemirror_mode": {
    "name": "ipython",
    "version": 3
   },
   "file_extension": ".py",
   "mimetype": "text/x-python",
   "name": "python",
   "nbconvert_exporter": "python",
   "pygments_lexer": "ipython3",
   "version": "3.12.2"
  }
 },
 "nbformat": 4,
 "nbformat_minor": 2
}
